{
 "cells": [
  {
   "cell_type": "code",
   "execution_count": 1,
   "id": "a3582ee5-5267-4b9a-ab8e-56045d4a5317",
   "metadata": {},
   "outputs": [],
   "source": [
    "# This notebook sets up the correct folders for notebooks"
   ]
  },
  {
   "cell_type": "code",
   "execution_count": null,
   "id": "599bd410-1f2b-4896-b9dd-d364d916773a",
   "metadata": {},
   "outputs": [],
   "source": []
  }
 ],
 "metadata": {
  "kernelspec": {
   "display_name": "Python 3 (ipykernel)",
   "language": "python",
   "name": "python3"
  },
  "language_info": {
   "codemirror_mode": {
    "name": "ipython",
    "version": 3
   },
   "file_extension": ".py",
   "mimetype": "text/x-python",
   "name": "python",
   "nbconvert_exporter": "python",
   "pygments_lexer": "ipython3",
   "version": "3.11.4"
  }
 },
 "nbformat": 4,
 "nbformat_minor": 5
}

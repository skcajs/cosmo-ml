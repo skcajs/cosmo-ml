{
 "cells": [
  {
   "cell_type": "code",
   "execution_count": 41,
   "id": "81182da3-9385-4308-a731-14f5c454a93d",
   "metadata": {},
   "outputs": [],
   "source": [
    "import torch\n",
    "from torcheval.metrics import R2Score"
   ]
  },
  {
   "cell_type": "code",
   "execution_count": 70,
   "id": "c34333bf-739d-4b00-8167-19b4d67adbf8",
   "metadata": {},
   "outputs": [],
   "source": [
    "input = torch.tensor([[1,2],[3,4]])"
   ]
  },
  {
   "cell_type": "code",
   "execution_count": 79,
   "id": "3f7de0c1-b675-4076-adc1-bd5875c9b05d",
   "metadata": {},
   "outputs": [],
   "source": [
    "target = torch.tensor([[1,1],[3,4]])"
   ]
  },
  {
   "cell_type": "code",
   "execution_count": 80,
   "id": "211efc9c-f52c-49e6-9c6a-2075c70b4913",
   "metadata": {},
   "outputs": [],
   "source": [
    "metric = R2Score(multioutput=\"raw_values\")"
   ]
  },
  {
   "cell_type": "code",
   "execution_count": 81,
   "id": "33a2c2d0-d9ca-4aa2-a640-839e938d7780",
   "metadata": {},
   "outputs": [
    {
     "data": {
      "text/plain": [
       "<torcheval.metrics.regression.r2_score.R2Score at 0x7f235c4f7fd0>"
      ]
     },
     "execution_count": 81,
     "metadata": {},
     "output_type": "execute_result"
    }
   ],
   "source": [
    "metric.update(input, target)"
   ]
  },
  {
   "cell_type": "code",
   "execution_count": 82,
   "id": "ecf66273-c918-4a6c-a686-e527600f9bb0",
   "metadata": {},
   "outputs": [
    {
     "data": {
      "text/plain": [
       "tensor([1.0000, 0.7778])"
      ]
     },
     "execution_count": 82,
     "metadata": {},
     "output_type": "execute_result"
    }
   ],
   "source": [
    "metric.compute()"
   ]
  },
  {
   "cell_type": "code",
   "execution_count": 39,
   "id": "aab92d25-631c-48c6-8302-38e95b9b41ab",
   "metadata": {},
   "outputs": [
    {
     "data": {
      "text/plain": [
       "<torcheval.metrics.regression.r2_score.R2Score at 0x7f235c9b6750>"
      ]
     },
     "execution_count": 39,
     "metadata": {},
     "output_type": "execute_result"
    }
   ],
   "source": [
    "metric = R2Score(multioutput=\"raw_values\")\n",
    "input = torch.tensor([[0, 2], [1, 6]])\n",
    "target = torch.tensor([[0, 1], [2, 5]])\n",
    "metric.update(input, target) "
   ]
  },
  {
   "cell_type": "code",
   "execution_count": 40,
   "id": "54fdad10-f114-4fe9-afd7-fd8a13093e08",
   "metadata": {},
   "outputs": [
    {
     "data": {
      "text/plain": [
       "tensor([0.5000, 0.7500])"
      ]
     },
     "execution_count": 40,
     "metadata": {},
     "output_type": "execute_result"
    }
   ],
   "source": [
    "metric.compute()"
   ]
  },
  {
   "cell_type": "code",
   "execution_count": null,
   "id": "38a93950-7caa-4bf8-895e-d71942c6cf33",
   "metadata": {},
   "outputs": [],
   "source": []
  }
 ],
 "metadata": {
  "kernelspec": {
   "display_name": "Python 3 (ipykernel)",
   "language": "python",
   "name": "python3"
  },
  "language_info": {
   "codemirror_mode": {
    "name": "ipython",
    "version": 3
   },
   "file_extension": ".py",
   "mimetype": "text/x-python",
   "name": "python",
   "nbconvert_exporter": "python",
   "pygments_lexer": "ipython3",
   "version": "3.11.4"
  }
 },
 "nbformat": 4,
 "nbformat_minor": 5
}

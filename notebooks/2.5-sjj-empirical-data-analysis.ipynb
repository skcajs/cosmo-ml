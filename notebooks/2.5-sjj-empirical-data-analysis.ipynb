{
 "cells": [
  {
   "cell_type": "code",
   "execution_count": 43,
   "id": "446ed957-5a7b-43cc-9036-457ee2b9ef2f",
   "metadata": {},
   "outputs": [],
   "source": [
    "import os\n",
    "import torch\n",
    "from torch import nn\n",
    "from torch.utils.data import Dataset, DataLoader\n",
    "import torchvision\n",
    "from torchvision import datasets, transforms\n",
    "import torchvision.models as models\n",
    "from torchvision.transforms import ToTensor, ToPILImage, Lambda\n",
    "import matplotlib.pyplot as plt\n",
    "import math\n",
    "\n",
    "import pandas as pd\n",
    "import numpy as np\n",
    "from torchvision.io import read_image\n",
    "\n",
    "from PIL import Image"
   ]
  },
  {
   "cell_type": "code",
   "execution_count": 11,
   "id": "5ff740c0-42a5-4d7e-85c2-47b8a373aafb",
   "metadata": {},
   "outputs": [],
   "source": [
    "emp_image_path = '__local/data/Cosmosim/empirical/images/raw/SL2SJ021737–051329.png'\n",
    "sim_image_path = '__local/data/Cosmosim/1/images/01gwtj.png'"
   ]
  },
  {
   "cell_type": "code",
   "execution_count": 13,
   "id": "b40b4bdd-47a6-4ff5-8081-35b4cc3d6314",
   "metadata": {},
   "outputs": [],
   "source": [
    "emp_image = Image.open(emp_image_path)\n",
    "sim_image = Image.open(sim_image_path)"
   ]
  },
  {
   "cell_type": "code",
   "execution_count": 17,
   "id": "9e3af7c4-3ecb-4a7f-bb1c-063dbebee4e1",
   "metadata": {},
   "outputs": [
    {
     "data": {
      "text/plain": [
       "(400, 400)"
      ]
     },
     "execution_count": 17,
     "metadata": {},
     "output_type": "execute_result"
    }
   ],
   "source": [
    "emp_image.size"
   ]
  },
  {
   "cell_type": "code",
   "execution_count": 18,
   "id": "f3c31159-7d98-4c64-910b-1a07581ee230",
   "metadata": {},
   "outputs": [
    {
     "data": {
      "text/plain": [
       "(100, 100)"
      ]
     },
     "execution_count": 18,
     "metadata": {},
     "output_type": "execute_result"
    }
   ],
   "source": [
    "sim_image.size"
   ]
  },
  {
   "cell_type": "code",
   "execution_count": 19,
   "id": "969a5ff4-b7a2-4346-b172-84ba2e3be89e",
   "metadata": {},
   "outputs": [
    {
     "data": {
      "text/plain": [
       "array([[ 64, 129,  71, ..., 129,  69,  70],\n",
       "       [ 61, 139, 163, ...,  55, 107,  86],\n",
       "       [ 63,  30,  35, ..., 108,  59,  92],\n",
       "       ...,\n",
       "       [  0, 116,  69, ...,  69,  37,  69],\n",
       "       [  0,  77,  83, ...,  37,  29,  88],\n",
       "       [116,  81,  81, ...,  87, 209,  79]], dtype=uint8)"
      ]
     },
     "execution_count": 19,
     "metadata": {},
     "output_type": "execute_result"
    }
   ],
   "source": [
    "np.array(sim_image)"
   ]
  },
  {
   "cell_type": "code",
   "execution_count": 20,
   "id": "935f5b2a-e20c-4563-bfcf-bcd75a557132",
   "metadata": {
    "scrolled": true
   },
   "outputs": [
    {
     "data": {
      "text/plain": [
       "array([[[ 63, 255],\n",
       "        [ 78, 255],\n",
       "        [ 76, 255],\n",
       "        ...,\n",
       "        [ 67, 255],\n",
       "        [ 69, 255],\n",
       "        [ 69, 255]],\n",
       "\n",
       "       [[ 76, 255],\n",
       "        [ 48, 255],\n",
       "        [ 46, 255],\n",
       "        ...,\n",
       "        [ 71, 255],\n",
       "        [ 74, 255],\n",
       "        [ 75, 255]],\n",
       "\n",
       "       [[ 77, 255],\n",
       "        [ 55, 255],\n",
       "        [ 54, 255],\n",
       "        ...,\n",
       "        [ 73, 255],\n",
       "        [ 78, 255],\n",
       "        [ 78, 255]],\n",
       "\n",
       "       ...,\n",
       "\n",
       "       [[ 53, 255],\n",
       "        [ 73, 255],\n",
       "        [ 74, 255],\n",
       "        ...,\n",
       "        [125, 255],\n",
       "        [124, 255],\n",
       "        [122, 255]],\n",
       "\n",
       "       [[ 55, 255],\n",
       "        [ 71, 255],\n",
       "        [ 72, 255],\n",
       "        ...,\n",
       "        [121, 255],\n",
       "        [120, 255],\n",
       "        [119, 255]],\n",
       "\n",
       "       [[ 53, 255],\n",
       "        [ 75, 255],\n",
       "        [ 74, 255],\n",
       "        ...,\n",
       "        [126, 255],\n",
       "        [125, 255],\n",
       "        [125, 255]]], dtype=uint8)"
      ]
     },
     "execution_count": 20,
     "metadata": {},
     "output_type": "execute_result"
    }
   ],
   "source": [
    "np.array(emp_image)"
   ]
  },
  {
   "cell_type": "code",
   "execution_count": 21,
   "id": "d563bc48-7f4a-47aa-8f2b-da539b61e1c5",
   "metadata": {},
   "outputs": [],
   "source": [
    "def remove_transparency(im, bg_colourim=(255, 255, 255)):\n",
    "\n",
    "    # Only process if image has transparency \n",
    "    if im.mode in ('RGBA', 'LA') or (im.mode == 'P' and 'transparency' in im.info):\n",
    "\n",
    "        # Need to convert to RGBA if LA format due to a bug in PIL \n",
    "        alpha = im.convert('RGBA').split()[-1]\n",
    "\n",
    "        # Create a new background image of our matt color.\n",
    "        # Must be RGBA because paste requires both images have the same format\n",
    "\n",
    "        bg = Image.new(\"RGBA\", im.size, bg_colour + (255,))\n",
    "        bg.paste(im, mask=alpha)\n",
    "        return bg\n",
    "\n",
    "    else:\n",
    "        return im"
   ]
  },
  {
   "cell_type": "code",
   "execution_count": 25,
   "id": "3b251af0-e3b2-4cac-bae9-b4f2ee03ed9a",
   "metadata": {},
   "outputs": [],
   "source": [
    "im = remove_transparency(emp_image).convert('L')"
   ]
  },
  {
   "cell_type": "code",
   "execution_count": 31,
   "id": "e0aa6367-612e-4258-8818-ec1f3e4b651e",
   "metadata": {},
   "outputs": [
    {
     "data": {
      "text/plain": [
       "(400, 400)"
      ]
     },
     "execution_count": 31,
     "metadata": {},
     "output_type": "execute_result"
    }
   ],
   "source": [
    "np.array(im).shape"
   ]
  },
  {
   "cell_type": "code",
   "execution_count": 44,
   "id": "19b0812c-b688-4379-8633-b57d50b87a93",
   "metadata": {},
   "outputs": [],
   "source": [
    "emp_raw_dir = '__local/data/Cosmosim/empirical/images/raw/'\n",
    "emp_processed_dir = '__local/data/Cosmosim/empirical/images/processed/'"
   ]
  },
  {
   "cell_type": "code",
   "execution_count": 45,
   "id": "85743fe3-2117-47d4-a782-61c671cadf44",
   "metadata": {},
   "outputs": [],
   "source": [
    "em_images = os.listdir(emp_image_dir)"
   ]
  },
  {
   "cell_type": "code",
   "execution_count": 46,
   "id": "6434edfc-6f81-41de-9ac6-89cae6a8d096",
   "metadata": {},
   "outputs": [
    {
     "name": "stdout",
     "output_type": "stream",
     "text": [
      "__local/data/Cosmosim/empirical/images/processed/SL2SJ141137+565119.png\n",
      "__local/data/Cosmosim/empirical/images/processed/SL2SJ021737–051329.png\n",
      "__local/data/Cosmosim/empirical/images/processed/SL2SJ084909–041226.png\n",
      "__local/data/Cosmosim/empirical/images/processed/SL2SJ142059+563007.png\n",
      "__local/data/Cosmosim/empirical/images/processed/SL2SJ220329+020518.png\n",
      "__local/data/Cosmosim/empirical/images/processed/SL2SJ140156+554446.png\n",
      "__local/data/Cosmosim/empirical/images/processed/SL2SJ021902–082934.png\n",
      "__local/data/Cosmosim/empirical/images/processed/SL2SJ020833–071414.png\n",
      "__local/data/Cosmosim/empirical/images/processed/SL2SJ135847+545913.png\n",
      "__local/data/Cosmosim/empirical/images/processed/SL2SJ021737-051329-2.png\n"
     ]
    }
   ],
   "source": [
    "for image_file in em_images:\n",
    "    image = Image.open('{}{}'.format(emp_image_dir, image_file))\n",
    "    image = remove_transparency(image).convert('L')\n",
    "    print('{}{}'.format(emp_processed_dir, image_file))\n",
    "    image.save('{}{}'.format(emp_processed_dir, image_file))"
   ]
  },
  {
   "cell_type": "code",
   "execution_count": null,
   "id": "8abc1705-b620-40b2-95e0-0dab16d3b817",
   "metadata": {},
   "outputs": [],
   "source": []
  }
 ],
 "metadata": {
  "kernelspec": {
   "display_name": "Python 3 (ipykernel)",
   "language": "python",
   "name": "python3"
  },
  "language_info": {
   "codemirror_mode": {
    "name": "ipython",
    "version": 3
   },
   "file_extension": ".py",
   "mimetype": "text/x-python",
   "name": "python",
   "nbconvert_exporter": "python",
   "pygments_lexer": "ipython3",
   "version": "3.11.4"
  }
 },
 "nbformat": 4,
 "nbformat_minor": 5
}
